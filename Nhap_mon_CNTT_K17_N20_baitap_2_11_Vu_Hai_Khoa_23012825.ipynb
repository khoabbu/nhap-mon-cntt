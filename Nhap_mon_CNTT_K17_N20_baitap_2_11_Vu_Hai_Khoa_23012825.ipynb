{
  "nbformat": 4,
  "nbformat_minor": 0,
  "metadata": {
    "colab": {
      "provenance": []
    },
    "kernelspec": {
      "name": "python3",
      "display_name": "Python 3"
    },
    "language_info": {
      "name": "python"
    }
  },
  "cells": [
    {
      "cell_type": "markdown",
      "source": [
        "**A**"
      ],
      "metadata": {
        "id": "ml_M7NMo_knN"
      }
    },
    {
      "cell_type": "code",
      "execution_count": null,
      "metadata": {
        "colab": {
          "base_uri": "https://localhost:8080/"
        },
        "id": "ve22_7FU_OdG",
        "outputId": "d8d9da7f-fb9f-4244-a29d-5cde68bea08d"
      },
      "outputs": [
        {
          "output_type": "stream",
          "name": "stdout",
          "text": [
            "698\n",
            "698\n"
          ]
        }
      ],
      "source": [
        "n=int(input())\n",
        "print(n)"
      ]
    },
    {
      "cell_type": "markdown",
      "source": [
        "**C**"
      ],
      "metadata": {
        "id": "w4OLDJrVAt3x"
      }
    },
    {
      "cell_type": "code",
      "source": [
        "n=int(input())\n",
        "m=int(input())\n",
        "x=n//m\n",
        "print(x)"
      ],
      "metadata": {
        "colab": {
          "base_uri": "https://localhost:8080/"
        },
        "id": "jDnZi1LwAzSs",
        "outputId": "5297c9b8-f286-4dc9-b47f-6a73f1a01de9"
      },
      "execution_count": null,
      "outputs": [
        {
          "output_type": "stream",
          "name": "stdout",
          "text": [
            "2064\n",
            "4\n",
            "516\n"
          ]
        }
      ]
    },
    {
      "cell_type": "markdown",
      "source": [
        "**B**"
      ],
      "metadata": {
        "id": "RUAIAiecCv9k"
      }
    },
    {
      "cell_type": "code",
      "source": [
        "\n",
        "n=int(input())\n",
        "m=int(input())\n",
        "x=n%m\n",
        "print(x)"
      ],
      "metadata": {
        "colab": {
          "base_uri": "https://localhost:8080/"
        },
        "id": "xi0l9pPaCzO9",
        "outputId": "4bac04f8-91c1-421b-d283-63581ccba8a6"
      },
      "execution_count": null,
      "outputs": [
        {
          "output_type": "stream",
          "name": "stdout",
          "text": [
            "2064\n",
            "4\n",
            "0\n"
          ]
        }
      ]
    },
    {
      "cell_type": "markdown",
      "source": [
        "H"
      ],
      "metadata": {
        "id": "fbS1kRRPDhyW"
      }
    },
    {
      "cell_type": "code",
      "source": [
        "n=int(input())\n",
        "import math\n",
        "x=math.sqrt(n)\n",
        "print('%.3f'%x)"
      ],
      "metadata": {
        "colab": {
          "base_uri": "https://localhost:8080/"
        },
        "id": "nMFyRX4EDqg-",
        "outputId": "2b55df89-2535-41df-fba5-eca94d13b28a"
      },
      "execution_count": null,
      "outputs": [
        {
          "output_type": "stream",
          "name": "stdout",
          "text": [
            "344\n",
            "18.547\n"
          ]
        }
      ]
    },
    {
      "cell_type": "markdown",
      "source": [
        "**G**"
      ],
      "metadata": {
        "id": "5IMLTas6H1lY"
      }
    },
    {
      "cell_type": "code",
      "source": [
        "a = float(input())\n",
        "b = float(input())\n",
        "if a == 0:\n",
        "    if b == 0:\n",
        "        print('phuong trinh vo so nghiem')\n",
        "    else:\n",
        "        print('vo nghiem')\n",
        "else:\n",
        "    x= -b/a\n",
        "    print('%.3f'%x)\n",
        "\n"
      ],
      "metadata": {
        "id": "8A9IMpcRH5yg",
        "colab": {
          "base_uri": "https://localhost:8080/"
        },
        "outputId": "5b0d6e95-0afd-465f-a7f3-f6827a5c509e"
      },
      "execution_count": null,
      "outputs": [
        {
          "output_type": "stream",
          "name": "stdout",
          "text": [
            "226.928 \n",
            "214.380\n",
            "-0.945\n"
          ]
        }
      ]
    },
    {
      "cell_type": "markdown",
      "source": [
        "I"
      ],
      "metadata": {
        "id": "S1RQRtbWK_bX"
      }
    },
    {
      "cell_type": "code",
      "source": [
        "a, b, c =map(int, input().split())\n",
        "\n",
        "min_value = min(a, b, c)\n",
        "max_value = max(a, b, c)\n",
        "\n",
        "print(min_value, max_value)"
      ],
      "metadata": {
        "id": "4zsFIDjnK_8f"
      },
      "execution_count": null,
      "outputs": []
    },
    {
      "cell_type": "markdown",
      "source": [
        "E\n"
      ],
      "metadata": {
        "id": "l3Lc_hTdvKyu"
      }
    },
    {
      "cell_type": "code",
      "source": [
        "n=int(input())\n",
        "if n % 2 == 0:\n",
        "   print(\"YES\")\n",
        "else:\n",
        "   print(\"NO\")\n"
      ],
      "metadata": {
        "colab": {
          "base_uri": "https://localhost:8080/"
        },
        "id": "VoJHmjT4MjuK",
        "outputId": "a30e2535-6500-4ce9-8629-f6e3e06d5015"
      },
      "execution_count": null,
      "outputs": [
        {
          "output_type": "stream",
          "name": "stdout",
          "text": [
            "997\n",
            "NO\n"
          ]
        }
      ]
    },
    {
      "cell_type": "markdown",
      "source": [
        "F"
      ],
      "metadata": {
        "id": "2KUvmEQZjItR"
      }
    },
    {
      "cell_type": "code",
      "source": [
        "def isPerfectSquare(n):\n",
        "    return (n**0.5).is_integer()\n",
        "\n",
        "n=int(input())\n",
        "if isPerfectSquare(n):\n",
        "    print(f\"YES\")\n",
        "else:\n",
        "    print(f\"NO\")\n"
      ],
      "metadata": {
        "colab": {
          "base_uri": "https://localhost:8080/"
        },
        "id": "jbSGfoWmjEgs",
        "outputId": "03ec7dbe-7d67-41d4-d391-5f03d9e7c5db"
      },
      "execution_count": null,
      "outputs": [
        {
          "output_type": "stream",
          "name": "stdout",
          "text": [
            "49\n",
            "YES\n"
          ]
        }
      ]
    },
    {
      "cell_type": "markdown",
      "source": [
        "N:tổng n số liên tiếp"
      ],
      "metadata": {
        "id": "hrtikhCRrRCF"
      }
    },
    {
      "cell_type": "code",
      "source": [
        "Sn=0\n",
        "n=int(input())\n",
        "for i in range(1,n+1):\n",
        "  Sn=Sn+i\n",
        "print(Sn)"
      ],
      "metadata": {
        "colab": {
          "base_uri": "https://localhost:8080/"
        },
        "id": "rXuDgi7PrRmd",
        "outputId": "8a90b098-f68a-4144-e1b2-8e7eecd04a88"
      },
      "execution_count": null,
      "outputs": [
        {
          "output_type": "stream",
          "name": "stdout",
          "text": [
            "5\n",
            "15\n"
          ]
        }
      ]
    },
    {
      "cell_type": "markdown",
      "source": [
        "J"
      ],
      "metadata": {
        "id": "KkX75V5Bu_6A"
      }
    },
    {
      "cell_type": "code",
      "source": [
        "a,b,c=map(int,input().split())\n",
        "\n",
        "if a + b > c and a + c > b and b + c > a:\n",
        "    print(\"YES\")\n",
        "else:\n",
        "    print(\"NO\")"
      ],
      "metadata": {
        "colab": {
          "base_uri": "https://localhost:8080/"
        },
        "id": "W-OAlmZIB7iJ",
        "outputId": "9803b691-1528-4048-a363-3efcdbdbbbf4"
      },
      "execution_count": null,
      "outputs": [
        {
          "output_type": "stream",
          "name": "stdout",
          "text": [
            "3 4 5\n",
            "YES\n"
          ]
        }
      ]
    },
    {
      "cell_type": "markdown",
      "source": [
        "K"
      ],
      "metadata": {
        "id": "ZjDfAI9ZTbvm"
      }
    },
    {
      "cell_type": "code",
      "source": [
        "a,b,c=map(int,input().split())\n",
        "\n",
        "if a + b > c and a + c > b and c + b > a:\n",
        "    if a*a == b*b + c*c or b*b == a*a + c*c or c*c == a*a + b*b:\n",
        "        print(\"YES\")\n",
        "else:\n",
        "    print(\"NO\")\n"
      ],
      "metadata": {
        "colab": {
          "base_uri": "https://localhost:8080/"
        },
        "id": "JGpqgEOUTcCW",
        "outputId": "2b52b0e3-53bf-4857-dcde-7b30d55cab92"
      },
      "execution_count": null,
      "outputs": [
        {
          "output_type": "stream",
          "name": "stdout",
          "text": [
            "3 4 5\n",
            "YES\n"
          ]
        }
      ]
    },
    {
      "cell_type": "markdown",
      "source": [
        "L"
      ],
      "metadata": {
        "id": "P0LKJTIEWB8a"
      }
    },
    {
      "cell_type": "code",
      "source": [
        "x1,y1=map(int,input().split())\n",
        "x2,y2=map(int,input().split())\n",
        "x3,y3=map(int,input().split())\n",
        "\n",
        "if x1*(y2-y3) + x2*(y3-y1) + x3*(y1-y2) == 0:\n",
        "    print(\"YES\")\n",
        "else:\n",
        "    print(\"NO\")"
      ],
      "metadata": {
        "colab": {
          "base_uri": "https://localhost:8080/"
        },
        "id": "knCxVLVEWGa0",
        "outputId": "4a523edc-2794-4573-ae24-1a79eb789291"
      },
      "execution_count": null,
      "outputs": [
        {
          "output_type": "stream",
          "name": "stdout",
          "text": [
            "0 0\n",
            "1 1\n",
            "2 2\n",
            "YES\n"
          ]
        }
      ]
    },
    {
      "cell_type": "markdown",
      "source": [
        "M"
      ],
      "metadata": {
        "id": "VKiKAmsaZLy5"
      }
    },
    {
      "cell_type": "code",
      "source": [
        "a=int(input())\n",
        "b=list(map(int,input().split()))\n",
        "n=len(b)\n",
        "for i in range(n):\n",
        "   print(b[i],end=' ')"
      ],
      "metadata": {
        "colab": {
          "base_uri": "https://localhost:8080/"
        },
        "id": "-oTczYQOc5FB",
        "outputId": "e09572f5-231e-4db7-afa2-48030077b4f2"
      },
      "execution_count": null,
      "outputs": [
        {
          "output_type": "stream",
          "name": "stdout",
          "text": [
            "5\n",
            "5 4 3 8 -1\n",
            "5 4 3 8 -1 "
          ]
        }
      ]
    },
    {
      "cell_type": "markdown",
      "source": [
        "O"
      ],
      "metadata": {
        "id": "1NIDWkb9j1yM"
      }
    },
    {
      "cell_type": "code",
      "source": [
        "a=[0]\n",
        "b=int(input())\n",
        "c=list(map(int,input().split()))\n",
        "e=len(c)\n",
        "for i in range(0,e):\n",
        "  if (c[i]>=0):\n",
        "    a.append(c[i])\n",
        "n=len(a)-1\n",
        "\n",
        "if (n>0):\n",
        "  print(n)\n",
        "for d in range(1,n+1):\n",
        "  print(a[d], end=' ')\n",
        "if (n==0):\n",
        "  print('Day so khong co phan tu duong')"
      ],
      "metadata": {
        "id": "f-hLAQZ1j25R"
      },
      "execution_count": null,
      "outputs": []
    },
    {
      "cell_type": "markdown",
      "source": [
        "u"
      ],
      "metadata": {
        "id": "tqNRW0w7lusm"
      }
    },
    {
      "cell_type": "code",
      "source": [
        "a=int(input())\n",
        "b=list(map(int,input().split()))\n",
        "n=len(b)\n",
        "m=sum(b)\n",
        "d=(\"{:.3f}\".format(m/n))\n",
        "print(d)"
      ],
      "metadata": {
        "id": "gLWH8gA5l2VM"
      },
      "execution_count": null,
      "outputs": []
    },
    {
      "cell_type": "markdown",
      "source": [
        "v"
      ],
      "metadata": {
        "id": "HmAdnbqcmF3P"
      }
    },
    {
      "cell_type": "code",
      "source": [
        "a=int(input())\n",
        "b=list(map(int,input().split()))\n",
        "n=len(b)\n",
        "max=b[0]\n",
        "for i in range(1,n):\n",
        "  if (b[i]>max):\n",
        "    max=b[i]\n",
        "  else:\n",
        "    max=max\n",
        "print(max)"
      ],
      "metadata": {
        "id": "QB_eC0nsmUd7"
      },
      "execution_count": null,
      "outputs": []
    },
    {
      "cell_type": "markdown",
      "source": [
        "p"
      ],
      "metadata": {
        "id": "pWQMTNagsUOe"
      }
    },
    {
      "cell_type": "code",
      "source": [
        "n = int(input())\n",
        "x = list(map(int, input().split()))\n",
        "y = list(map(int, input().split()))\n",
        "\n",
        "tong = sum(xi * yi for xi, yi in zip(x, y))\n",
        "print(tong)\n"
      ],
      "metadata": {
        "id": "J9p63g3JpQrU"
      },
      "execution_count": null,
      "outputs": []
    },
    {
      "cell_type": "markdown",
      "source": [
        "s"
      ],
      "metadata": {
        "id": "OMZIBQ23pfQ3"
      }
    },
    {
      "cell_type": "code",
      "source": [
        "import math\n",
        "\n",
        "def kiem_tra(x):\n",
        "    if x < 2:\n",
        "        return False\n",
        "    for i in range(2, int(math.sqrt(x)) + 1):\n",
        "        if x % i == 0:\n",
        "            return False\n",
        "    return True\n",
        "\n",
        "x = int(input())\n",
        "\n",
        "if kiem_tra(x):\n",
        "    print(\"co\")\n",
        "else:\n",
        "    print(\"khong\")"
      ],
      "metadata": {
        "id": "zLXDuAvlphkG"
      },
      "execution_count": null,
      "outputs": []
    },
    {
      "cell_type": "markdown",
      "source": [
        "d"
      ],
      "metadata": {
        "id": "mya6ez2Mqj1r"
      }
    },
    {
      "cell_type": "code",
      "source": [
        "x=float(input())\n",
        "import math\n",
        "cos=math.cos\n",
        "sin=math.sin\n",
        "tan=math.tan\n",
        "\n",
        "print('{:.3f}'.format(cos(x),3),'','{:.3f}'.format(sin(x),3),'','{:.3f}'.format(tan(x),3),'','{:.3f}'.format(1/tan(x),3))\n"
      ],
      "metadata": {
        "id": "ewkQ6n4vqk8b"
      },
      "execution_count": null,
      "outputs": []
    },
    {
      "cell_type": "markdown",
      "source": [
        "Q"
      ],
      "metadata": {
        "id": "KWED3w5UynRm"
      }
    },
    {
      "cell_type": "code",
      "source": [
        "a=[0]\n",
        "b=int(input())\n",
        "c=list(map(int,input().split()))\n",
        "e=len(c)\n",
        "for i in range(0,e):\n",
        "  if (c[i]>=0):\n",
        "    a.append(c[i])\n",
        "n=len(a)-1\n",
        "m=sum(a)\n",
        "d=(\"{:.3f}\".format(m/n))\n",
        "print(d)\n"
      ],
      "metadata": {
        "id": "g2qEl73ryonV"
      },
      "execution_count": null,
      "outputs": []
    },
    {
      "cell_type": "markdown",
      "source": [
        "T"
      ],
      "metadata": {
        "id": "zjnXVnO22HVP"
      }
    },
    {
      "cell_type": "code",
      "source": [
        "a=[0]\n",
        "b=int(input())\n",
        "c=list(map(int,input().split()))\n",
        "e=len(c)\n",
        "for i in range(0,e):\n",
        "  if (c[i]>=0):\n",
        "    a.append(c[i])\n",
        "n=len(a)-1\n",
        "m=sum(a)\n",
        "d=(\"{:.3f}\".format(m/n))\n",
        "print(d)\n"
      ],
      "metadata": {
        "id": "MlxVuIAH2Ibo"
      },
      "execution_count": null,
      "outputs": []
    }
  ]
}